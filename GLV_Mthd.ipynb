{
 "cells": [
  {
   "cell_type": "code",
   "execution_count": null,
   "metadata": {},
   "outputs": [],
   "source": [
    "\"\"\" This file simulate species' growth with the gLV model \n",
    "\"\"\"\n",
    "from scipy.integrate import odeint\n",
    "import numpy as np"
   ]
  },
  {
   "cell_type": "code",
   "execution_count": null,
   "metadata": {},
   "outputs": [],
   "source": [
    "def gLV(x_vector, t=0, u_vector=None, a_matrix=None):\n",
    "    new_x_vector = np.zeros(len(x_vector))\n",
    "    for i in range(len(x_vector)):\n",
    "        new_x_vector[i] = x_vector[i] * (u_vector[i] + np.sum([a_matrix[i][j] * x_vector[j] for j in range(len(x_vector))]))\n",
    "    return new_x_vector"
   ]
  },
  {
   "cell_type": "code",
   "execution_count": null,
   "metadata": {},
   "outputs": [],
   "source": [
    "def simulate(  x0_vector,Ts,u_vector, a_matrix):\n",
    "    return odeint(gLV, x0_vector, Ts, args=(u_vector, a_matrix))"
   ]
  },
  {
   "cell_type": "code",
   "execution_count": null,
   "metadata": {},
   "outputs": [],
   "source": [
    "def to_matrix(  l, total_n, select_n=0):\n",
    "    if(select_n != 0):\n",
    "        n = select_n\n",
    "    else:\n",
    "        n = total_n\n",
    "    \n",
    "    return [l[i:i+n] for i in range(0, n*total_n, total_n)]\n",
    "    #in the same rows are a_values of the same receiver with different activators\n",
    "''' [ cd<-cd, cd<-er, cd<-dp\n",
    "      er<-cd, er<_er, er<-dp\n",
    "      ...\n",
    "                              ]'''"
   ]
  }
 ],
 "metadata": {
  "kernelspec": {
   "display_name": "Python 3",
   "language": "python",
   "name": "python3"
  },
  "language_info": {
   "codemirror_mode": {
    "name": "ipython",
    "version": 3
   },
   "file_extension": ".py",
   "mimetype": "text/x-python",
   "name": "python",
   "nbconvert_exporter": "python",
   "pygments_lexer": "ipython3",
   "version": "3.8.5"
  }
 },
 "nbformat": 4,
 "nbformat_minor": 4
}
