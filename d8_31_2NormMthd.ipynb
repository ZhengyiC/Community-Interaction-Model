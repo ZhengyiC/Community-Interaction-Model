{
 "cells": [
  {
   "cell_type": "code",
   "execution_count": null,
   "metadata": {},
   "outputs": [],
   "source": [
    "# %load C:\\Users\\Patron\\Desktop\\model_project\\Lab\\3SpeciesModel\\d8_31_2NormMthd.py\n",
    "\"\"\"\n",
    "Created on Thu Dec 31 08:51:11 2020\n",
    "\n",
    "This file implement 2 normalization methods:z-score and centralization around means \n",
    "@author: ZC\n",
    "\"\"\"\n",
    "\n",
    "import numpy as np\n",
    "import sys\n",
    "from copy import copy\n",
    "\n",
    "\n",
    "\n",
    "def transZScore(mtr1):\n",
    "    \"\"\" This function transform a passed-in matrix by replacing each element with its z-score values where mean and stdev are calculated across each column\n",
    "    mtr1: the matrix to be transformed \n",
    "    Return: a 3 element list: the transformed mtr, mean and stdev for each column in a list \"\"\"\n",
    "    \n",
    "    m = list() #the list of means for each col\n",
    "    s = list() #the list of stdev for each col \n",
    "    mtr = copy(mtr1)\n",
    "    ret = np.zeros(mtr.shape) #the transformed mtr\n",
    "    \n",
    "    for i in range(mtr.shape[1]):\n",
    "        col = mtr[:,i]\n",
    "        mi = np.mean(col)\n",
    "        si = np.std(col)\n",
    "       \n",
    "        m.append(mi)\n",
    "        s.append(si)\n",
    "        \n",
    "        col = np.subtract(col, mi)\n",
    "        col = np.divide(col, si)\n",
    "        ret[:,i] = col\n",
    "    \n",
    "    return [ret, m, s]\n",
    "\n",
    "def centralize(mtr):\n",
    "    \"\"\"This function centralize each column of the mtr around its mean value\n",
    "    mtr: the matrix to be transformed \n",
    "    Return [centralized mtr, mean values ]\"\"\"\n",
    "    m = list()\n",
    "    ret = np.zeros(mtr.shape)\n",
    "    \n",
    "    for i in range(mtr.shape[1]):\n",
    "        col = mtr[:,i]\n",
    "        mi =np.mean(col)\n",
    "        m.append(mi)\n",
    "        col =np.subtract(col, mi)\n",
    "        ret[:,i] = col\n",
    "    return [ret, m]"
   ]
  },
  {
   "cell_type": "code",
   "execution_count": null,
   "metadata": {},
   "outputs": [],
   "source": []
  }
 ],
 "metadata": {
  "kernelspec": {
   "display_name": "Python 3",
   "language": "python",
   "name": "python3"
  },
  "language_info": {
   "codemirror_mode": {
    "name": "ipython",
    "version": 3
   },
   "file_extension": ".py",
   "mimetype": "text/x-python",
   "name": "python",
   "nbconvert_exporter": "python",
   "pygments_lexer": "ipython3",
   "version": "3.8.5"
  }
 },
 "nbformat": 4,
 "nbformat_minor": 4
}
