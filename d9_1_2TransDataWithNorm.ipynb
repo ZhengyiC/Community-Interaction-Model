{
 "cells": [
  {
   "cell_type": "code",
   "execution_count": 11,
   "metadata": {},
   "outputs": [],
   "source": [
    "#!pip install import_ipynb "
   ]
  },
  {
   "cell_type": "code",
   "execution_count": 4,
   "metadata": {},
   "outputs": [],
   "source": [
    "import import_ipynb"
   ]
  },
  {
   "cell_type": "code",
   "execution_count": 7,
   "metadata": {},
   "outputs": [],
   "source": [
    "# %load C:\\Users\\Patron\\Desktop\\model_project\\Lab\\3SpeciesModel\\d9_1_2TransDataWithNorm.py\n",
    "\"\"\"\n",
    "Created on Thu Dec 31 09:19:31 2020\n",
    "\n",
    "This file calls d8_31_2rawDataTransform to process training set matrix (raw data)\n",
    "\n",
    "@author: Patron\n",
    "\"\"\"\n",
    "\n",
    "import numpy as np\n",
    "import sys\n",
    "import d8_31_2NormMthd as modifynorm\n",
    "\n",
    "def modifyRawDataMtrs( names, inpath, outpath, outnames, thresh=0, zs=True, ctr=False, ms= False):\n",
    "    \"\"\" This function modifies input raw data matrices by z-scoring or centralizing around means. This function can transform multiple raw data files by the same method \n",
    "    names: a list of names of raw data files \n",
    "    inpath: input file's path\n",
    "    outpath: output file's path (should end with \"/\")\n",
    "    outnames: a list of names for the output files, list length should match names\n",
    "    thresh: a threshold value below which the species value will be considered as 0\n",
    "    \n",
    "    zs: boolean value to set if you want to transform the data with z-score \n",
    "    ctr: boolean value to set if you want to transform the data with centralization \n",
    "    ms: boolean value to set if you want to save the means and stdevs from the transformation \n",
    "    \n",
    "    \"\"\"\n",
    "    #iterate through each input name\n",
    "    for i in range( len(names)):\n",
    "        print(f\"transforming {names[i]}\")\n",
    "        filename = inpath + names[i]\n",
    "        data = np.genfromtxt(filename, delimiter=',')\n",
    "        \n",
    "        #exclude invalid (negative) end OD data \n",
    "        data[data<thresh] = 0\n",
    "        absence = np.argwhere(data == 0) # a list of indices (row, col) of the species endOD that is too small or not present in the raw data; shape is x*2\n",
    "        \n",
    "        #create a boolean mtr with the same size of data, element = 1 if the data point at the position is not present in the community \n",
    "        non_present = np.zeros(data.shape)\n",
    "        for ind in absence:\n",
    "            non_present[ind[0],ind[1]] = 1\n",
    "        np.savetxt(\"./interm/no_present.csv\", non_present, delimiter=',')\n",
    "        \n",
    "        #1 zscore\n",
    "        if(zs):\n",
    "            result1 = modifynorm.transZScore(data) # returns [zMtr, m, stdev] \n",
    "            np.savetxt(outpath+outnames[i]+\"MtrZs.csv\", result1[0], delimiter=',' )\n",
    "            if(ms):\n",
    "                np.savetxt(outpath+outnames[i]+\"ZMean.csv\", result1[1], delimiter=',')\n",
    "                np.savetxt(outpath+outnames[i]+\"ZStdev.csv\", result1[2], delimiter=',')\n",
    "        if(ctr):\n",
    "            result2 = modifynorm.centralize(data) #returns [ctrMtr, m]\n",
    "            np.savetxt(outpath+outnames[i]+\"MtrCtr.csv\", result2[0], delimiter=',')\n",
    "            if(ms):\n",
    "                np.savetxt(outpath+outnames[i]+\"CtrMean.csv\", result2[1], delimiter=',')\n",
    "        \n",
    "        \n",
    "            "
   ]
  },
  {
   "cell_type": "code",
   "execution_count": 8,
   "metadata": {},
   "outputs": [
    {
     "name": "stdout",
     "output_type": "stream",
     "text": [
      "transforming ./rawData/endOD_dtr_defined.csv\n"
     ]
    }
   ],
   "source": [
    "#transform the endOD_dtr_defined raw data file \n",
    "names = [\"./rawData/endOD_dtr_defined.csv\"]\n",
    "\n",
    "modifyRawDataMtrs( names, \"\", \"\", [\"./interm/endOD\"], zs=True, ctr=False, ms= False)"
   ]
  },
  {
   "cell_type": "code",
   "execution_count": null,
   "metadata": {},
   "outputs": [],
   "source": []
  }
 ],
 "metadata": {
  "kernelspec": {
   "display_name": "Python 3",
   "language": "python",
   "name": "python3"
  },
  "language_info": {
   "codemirror_mode": {
    "name": "ipython",
    "version": 3
   },
   "file_extension": ".py",
   "mimetype": "text/x-python",
   "name": "python",
   "nbconvert_exporter": "python",
   "pygments_lexer": "ipython3",
   "version": "3.8.5"
  }
 },
 "nbformat": 4,
 "nbformat_minor": 4
}
