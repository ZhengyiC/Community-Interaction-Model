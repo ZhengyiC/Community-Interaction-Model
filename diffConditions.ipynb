{
 "cells": [
  {
   "cell_type": "code",
   "execution_count": 1,
   "metadata": {},
   "outputs": [
    {
     "name": "stdout",
     "output_type": "stream",
     "text": [
      "importing Jupyter notebook from model_sim.ipynb\n",
      "Requirement already satisfied: import_ipynb in c:\\users\\patron\\anaconda3\\lib\\site-packages (0.1.3)\n",
      "importing Jupyter notebook from GLV_Mthd.ipynb\n"
     ]
    }
   ],
   "source": [
    "# %load C:/Users/Patron/Desktop/model_project/Lab/genDataFromGLV/diffConditions.py\n",
    "\"\"\"\n",
    "Created on Thu Jul  2 15:19:27 2020\n",
    "\n",
    "@author: ZC\n",
    "This file  generates end OD data (training sets)for species \n",
    "It calls the model_sim file that runs the gLV model \n",
    "\n",
    "options: generate community end OD data with or without distribution specification \n",
    "\"\"\"\n",
    "\n",
    "#!pip install import_ipynb \n",
    "import import_ipynb\n",
    "import model_sim\n",
    "import random\n",
    "import numpy as np\n",
    "\n"
   ]
  },
  {
   "cell_type": "code",
   "execution_count": 2,
   "metadata": {},
   "outputs": [],
   "source": [
    "def randomSumToOne():\n",
    "    ''' This function returns a list of 3 random float point numbers that sum up to one'''\n",
    "    \n",
    "    pt1 = random.random()\n",
    "    range2 = 1-pt1\n",
    "    pt2 = random.uniform(1e-3, range2)\n",
    "    pt3 = 1-pt1 - pt2\n",
    "    ls = [pt1,pt2,pt3]\n",
    "    random.shuffle(ls)\n",
    "    return ls"
   ]
  },
  {
   "cell_type": "code",
   "execution_count": 3,
   "metadata": {},
   "outputs": [],
   "source": [
    "## set parameter here \n",
    "num_species = 14 #should not change based on Susan's data \n",
    "num_select = 10 # total number of species you want to test in all community; max 14\n",
    "cm_sz_min = 1 #minimal number of species in each community \n",
    "cm_sz_max = 10 #max num of species in each community \n",
    "\n",
    "# level of variation, vari:level of variation, % of stdev of all aij used to sample perturbed coeff; when perturb the output coeff, sample from a normal distribution with the original interaction coeff as mean and std*vari as the standard deviation\n",
    "mtr_vari = 0  # can be changed \n",
    "\n",
    "n_tr = 400 #number of training set (total community number for the run )"
   ]
  },
  {
   "cell_type": "code",
   "execution_count": null,
   "metadata": {},
   "outputs": [],
   "source": [
    "communityDistrPipe( num_species, num_selected, dtr, mtr_vari, n_tr, nameIdx, save , outpath, saveAij_local= False):\n",
    "    \n",
    "    \"\"\"this functino generate species end OD data in a csv file when % small, medium and large community distribution is specified \n",
    "    num_species = 14 based on Susan's data\n",
    "    num_selected: number of distinct species participated in the modeling for all communities\n",
    "    dtr: a list of 3 percentages [%of small community, %medium, %large] that we want for the data set to have \n",
    "    small: 2,3 member communities; medium: 5; large: 8,9\n",
    "    mtr_vari: level of variance for the gLV parameter when running the model\n",
    "    n_tr: number of training set \n",
    "    \n",
    "    nameID: used to save the file (text)\n",
    "    save: boolean to set if you want to save the community distribution information \n",
    "    outpath: location to save the file \n",
    "    saveAij_local: boolean value to set if you want to save the gLV interaction coefficient mtr used to generate the raw data in this model \n",
    "    \n",
    "    \"\"\""
   ]
  },
  {
   "cell_type": "code",
   "execution_count": 4,
   "metadata": {},
   "outputs": [],
   "source": [
    "\n",
    "## Option 1 \n",
    "#-------Generate Raw data with defined community % distribution-------------\n",
    "random.seed(15)    \n",
    "dtrLs = [ [1,0,0], [0.6,0.2,0.2], [1/3,1/3,1/3],\n",
    "         [0,1,0], [0.2,0.6,0.2], \n",
    "          [0,0,1], [0.2,0.2,0.6] ]\n",
    "\n",
    "\n",
    "dtr2 = [randomSumToOne() for i in range(5)]\n",
    "dtr2 = np.array(dtr2)\n",
    "\n",
    "np.savetxt(\"./interm/random_comm_dtr.csv\", dtr2, delimiter=',')\n",
    "np.savetxt(\"./interm./set_comm_dtr.csv\", dtrLs, delimiter=',')\n",
    "\n",
    "\n",
    "\n",
    "\n",
    "dtr = dtr2 #a list of community distributions , can be defined in other ways \n",
    "\n",
    "endODData = np.zeros([n_tr * len(dtr), num_select])\n",
    "\n",
    "for i in range(len(dtr)): #gen end OD data for each distribution \n",
    "    data = model_sim.communityDistrPipe(num_species, num_select, dtr[i], mtr_vari, n_tr, i, \n",
    "                                        False, outpath = '', saveAij_local = True) \n",
    "    #saveAij save the gLV parameter for later comparison \n",
    "    \n",
    "    endODData[n_tr*i: n_tr*(i+1), :] = data\n",
    "    \n"
   ]
  },
  {
   "cell_type": "code",
   "execution_count": null,
   "metadata": {},
   "outputs": [],
   "source": [
    "#save the traning set data \n",
    "outputName = \"endOD_dtr_defined.csv\"\n",
    "np.savetxt(f\"./rawData/{outputName}\", endODData, newline='\\n', delimiter=',')"
   ]
  },
  {
   "cell_type": "code",
   "execution_count": 1,
   "metadata": {},
   "outputs": [],
   "source": [
    "##Option 2 \n",
    "#--------gen traning set without defined distribution ----------------\n",
    "##---------------------------------------------------------------------\n",
    "\n",
    "#randEndODData = model_sim.modelPipe(num_species,num_select,cm_sz_min,cm_sz_max,mtr_vari,n_tr, saveAij_local = False)\n",
    "\n",
    "#outputName = \"endOD_dtr_notDefined.csv\"\n",
    "#np.savetxt(f\"./rawData/{outputName}\", randEndODData, newline='\\n', delimiter=',')\n",
    "\n",
    "##---------------------------------------------------------------------\n",
    "##---------------------------------------------------------------------"
   ]
  },
  {
   "cell_type": "code",
   "execution_count": null,
   "metadata": {},
   "outputs": [],
   "source": [
    "## Option 3 \n",
    "#model pipeline to try different variance level, max and min community size \n",
    "##---------------------------------------------------------------------\n",
    "\n",
    "#change the parameters \n",
    "vari = [0.1, 0.05, 0.025, 0.0125]\n",
    "#min and max community size, each training set will be generated with community sizes ranging from [minsz[i], maxsz[i]]\n",
    "minsz = [3,4,5]\n",
    "maxsz = [7,8,9]\n",
    "\n",
    "\n",
    "# c1 = list() # a list of conditions \n",
    "# for v in range(len(vari)): #try different variance level \n",
    "#     for i in range(len(minsz)): #try different minimal community sizes \n",
    "#         c1.append((num_species,num_select,minsz[i], maxsz[i], vari[v], n_tr))\n",
    "    \n",
    "# for j in range(len(c1)):   \n",
    "#     model_sim.modelPipe( *c1[j])"
   ]
  }
 ],
 "metadata": {
  "kernelspec": {
   "display_name": "Python 3",
   "language": "python",
   "name": "python3"
  },
  "language_info": {
   "codemirror_mode": {
    "name": "ipython",
    "version": 3
   },
   "file_extension": ".py",
   "mimetype": "text/x-python",
   "name": "python",
   "nbconvert_exporter": "python",
   "pygments_lexer": "ipython3",
   "version": "3.8.5"
  }
 },
 "nbformat": 4,
 "nbformat_minor": 4
}
