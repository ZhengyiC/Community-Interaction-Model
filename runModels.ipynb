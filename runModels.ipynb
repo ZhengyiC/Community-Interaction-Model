{
 "cells": [
  {
   "cell_type": "code",
   "execution_count": 2,
   "metadata": {},
   "outputs": [
    {
     "name": "stdout",
     "output_type": "stream",
     "text": [
      "importing Jupyter notebook from trainModelAndTest.ipynb\n"
     ]
    }
   ],
   "source": [
    "# %load C:\\Users\\Patron\\Desktop\\model_project\\Lab\\3SpeciesModel\\d9_2runModelAndTestModifyNorm.py\n",
    "\"\"\"\n",
    "Created on Wed Sep  2 13:53:39 2020\n",
    "This file run the Linear regression model on modified normalized model\n",
    "@author: Patron\n",
    "\"\"\"\n",
    "import import_ipynb\n",
    "import trainModelAndTest as tmt\n",
    "import numpy as np\n",
    "from time import time\n",
    "\n"
   ]
  },
  {
   "cell_type": "code",
   "execution_count": 8,
   "metadata": {},
   "outputs": [],
   "source": [
    "def runmodels( names, inputpath, outnames, outputpath, normed, gLVMtr, data_thresh=0, param_thresh=0, regMode = 'LOO', fold = 10):\n",
    "    \"\"\" This function runs the linear regression models for specified raw data sets and saves trained parameters in specified outpath; evaluation results (spearman, pearson coeff and %correct signs) will be returned\n",
    "    \n",
    "    names: a list of names of input files \n",
    "    inputpath: path of the input files \n",
    "    outnames: a list of names you want the trained parameter mtr to be saved as \n",
    "    outputpath: path of the output files\n",
    "    \n",
    "    normed: boolean value to be set if the input training data is normalized\n",
    "    gLVMtr: aijs mtr used in the gLV model to generate the raw data \n",
    "    \n",
    "    data_thresh: threshold used to exclude small raw data as absent species \n",
    "    param_thresh: threshold used to exclude small parameters when comparing the signs of the gLVMtr and trained parameters \n",
    "    regMode: regularization mode, can be set to 'LOO' (leave-one out cross validation) or 'FOLD' (x fold cross validation); default set to be LOO\n",
    "    fold: number of fold that can be specified if choose x fold cross validation; default set to be 10\n",
    "    \n",
    "    Return evaluation results: a n*3 mtr where n is the number of training set and each row id a list: [Spearman coef, Pearson coef, Pct Correct Sign]\"\"\"\n",
    "    \n",
    "    ret = np.zeros([len(names), 3]) #evaluation parameters \n",
    "    \n",
    "    for i in range(len(names)):\n",
    "        print(f\"running model on {names[i]}\")\n",
    "        data = np.genfromtxt(inputpath+names[i], delimiter=',')\n",
    "        sp,pe,pct = 0,0,0 #declare variables \n",
    "        filtparam = False\n",
    "        if(param_thresh != 0):\n",
    "            filtparam = True\n",
    "        \n",
    "        if(normed):\n",
    "            normedMdls = tmt.trainModelAllSp(data, regMode, fold, normed=True, thresh= data_thresh)\n",
    "            normedThetas = tmt.thetaMtr(normedMdls)\n",
    "            np.savetxt(outputpath+outnames[i], normedThetas, delimiter=',')\n",
    "            [sp,pe] = tmt.calcSpPe(normedThetas, gLVMtr, filtparam, param_thresh)\n",
    "            pct = tmt.calcPctCorrectSign( normedThetas, gLVMtr, filtparam, param_thresh)\n",
    "       \n",
    "        else:  \n",
    "            noNormMdls = tmt.trainModelAllSp(data, regMode, fold, normed = False, thresh = data_thresh)\n",
    "            noNormThetas = tmt.thetaMtr(noNormMdls)\n",
    "            np.savetxt(outputpath+outnames[i], noNormThetas, delimiter=',')\n",
    "            [sp,pe] = tmt.calcSpPe(noNormThetas, gLVMtr, filtparam, param_thresh)\n",
    "            pct = tmt.calcPctCorrectSign( noNormThetas, gLVMtr, filtparam, param_thresh)\n",
    "          \n",
    "        ret[i,:] = [sp,pe,pct] \n",
    "   \n",
    "    return ret"
   ]
  },
  {
   "cell_type": "code",
   "execution_count": 9,
   "metadata": {
    "scrolled": true
   },
   "outputs": [
    {
     "name": "stdout",
     "output_type": "stream",
     "text": [
      "running model on endODMtrZs.csv\n",
      "from tmt process mtr: thresh = 0.001\n",
      "from tmt process mtr: thresh = 0.001\n",
      "running model on endOD_dtr_defined.csv\n",
      "from tmt process mtr: thresh = 0.001\n",
      "from tmt process mtr: thresh = 0.001\n"
     ]
    }
   ],
   "source": [
    "#input and output file path \n",
    "inpath1 = \"./interm/\" #for normalized data\n",
    "inpath2 = \"./rawData/\" #for non-normalized raw data \n",
    "outpath =\"./output/\"\n",
    "###gLVMtr= \n",
    "\n",
    "\n",
    "#### input file and output file names to be set \n",
    "names1=[\"endODMtrZs.csv\"] #the normalized end od training data \n",
    "outnames = [\"thetaMtrNormed.csv\"]\n",
    "names2 = [\"endOD_dtr_defined.csv\"] #the non-normalized raw training data \n",
    "outnames2 = [\"thetaMtr_NoNorm.csv\"]\n",
    "\n",
    "\n",
    "\n",
    "\n",
    "\n",
    "# runmodels arguments: \n",
    "#names, inputpath, outnames, outputpath, normed, gLVMtr, data_thresh=0, param_thresh=0, regMode = 'LOO', fold = 10)\n",
    "gLVMtr = np.genfromtxt(\"./interm/gLV_aij.csv\", delimiter=',')\n",
    "paramEvalNormed = runmodels(names1, inpath1, outnames, outpath, True, gLVMtr, 0,0.001 )\n",
    "np.savetxt(outpath + \"eval_normed.csv\", paramEvalNormed, delimiter=',')\n",
    "paramEval2 = runmodels(names2,inpath2, outnames2, outpath, False, gLVMtr,0,0.001)\n",
    "np.savetxt(outpath+ \"eval_notNormed.csv\", paramEval2,delimiter=',')"
   ]
  },
  {
   "cell_type": "code",
   "execution_count": null,
   "metadata": {},
   "outputs": [],
   "source": []
  },
  {
   "cell_type": "code",
   "execution_count": null,
   "metadata": {},
   "outputs": [],
   "source": []
  }
 ],
 "metadata": {
  "kernelspec": {
   "display_name": "Python 3",
   "language": "python",
   "name": "python3"
  },
  "language_info": {
   "codemirror_mode": {
    "name": "ipython",
    "version": 3
   },
   "file_extension": ".py",
   "mimetype": "text/x-python",
   "name": "python",
   "nbconvert_exporter": "python",
   "pygments_lexer": "ipython3",
   "version": "3.8.5"
  }
 },
 "nbformat": 4,
 "nbformat_minor": 4
}
